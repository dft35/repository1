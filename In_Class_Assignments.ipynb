{
  "nbformat": 4,
  "nbformat_minor": 0,
  "metadata": {
    "colab": {
      "provenance": [],
      "authorship_tag": "ABX9TyNU7vJQAdhFWJ+CI4WoJcXT",
      "include_colab_link": true
    },
    "kernelspec": {
      "name": "python3",
      "display_name": "Python 3"
    },
    "language_info": {
      "name": "python"
    }
  },
  "cells": [
    {
      "cell_type": "markdown",
      "metadata": {
        "id": "view-in-github",
        "colab_type": "text"
      },
      "source": [
        "<a href=\"https://colab.research.google.com/github/dft35/repository1/blob/main/In_Class_Assignments.ipynb\" target=\"_parent\"><img src=\"https://colab.research.google.com/assets/colab-badge.svg\" alt=\"Open In Colab\"/></a>"
      ]
    },
    {
      "cell_type": "code",
      "execution_count": null,
      "metadata": {
        "colab": {
          "base_uri": "https://localhost:8080/"
        },
        "id": "8d0jxaizkISV",
        "outputId": "b5606184-e12f-4759-ed62-5bdbacafec68"
      },
      "outputs": [
        {
          "output_type": "stream",
          "name": "stdout",
          "text": [
            "245.037\n"
          ]
        }
      ],
      "source": [
        "pi = 3.1415\n",
        "r = 3\n",
        "h = 10\n",
        "\n",
        "Area = 2*pi*r**2 + 2*pi*r*h\n",
        "print(Area, )"
      ]
    },
    {
      "cell_type": "code",
      "source": [
        "x=2\n",
        "y=3.14\n",
        "s= 'abc'\n",
        "print(x,y,s)"
      ],
      "metadata": {
        "colab": {
          "base_uri": "https://localhost:8080/"
        },
        "id": "BT6u3Wb60D1e",
        "outputId": "c4b6b58f-d28b-46b9-9c89-2f9f5254a54e"
      },
      "execution_count": null,
      "outputs": [
        {
          "output_type": "stream",
          "name": "stdout",
          "text": [
            "2 3.14 abc\n"
          ]
        }
      ]
    },
    {
      "cell_type": "code",
      "source": [
        "pi = 3.14\n",
        "r = 5\n",
        "\n",
        "Area = pi * (r**2)\n",
        "print(\"Area =\", Area, \"square feet\") #Display using only objects\n",
        "print(\"Area = {} square feet\" .format(Area) ) #Display using .format method\n",
        "print(f\"Area = {Area} square feet\") #Display using f-strings\n",
        "print(\"End of program...\")"
      ],
      "metadata": {
        "colab": {
          "base_uri": "https://localhost:8080/"
        },
        "id": "ilnHSy5u2KeK",
        "outputId": "c54aa38b-0869-4298-eea1-4d93505aff1a"
      },
      "execution_count": null,
      "outputs": [
        {
          "output_type": "stream",
          "name": "stdout",
          "text": [
            "Area = 78.5 square feet\n",
            "Area = 78.5 square feet\n",
            "Area = 78.5 square feet\n",
            "End of program...\n"
          ]
        }
      ]
    },
    {
      "cell_type": "code",
      "source": [
        "pi = 3.14\n",
        "r = input(\"Provide a value for radius: \")\n",
        "r = float(r)\n",
        "\n",
        "\n",
        "\n",
        "type(r)\n",
        "\n"
      ],
      "metadata": {
        "colab": {
          "base_uri": "https://localhost:8080/"
        },
        "id": "obRnvmVwAm00",
        "outputId": "eae8dbfc-da73-471b-b17d-813d712a2587"
      },
      "execution_count": null,
      "outputs": [
        {
          "name": "stdout",
          "output_type": "stream",
          "text": [
            "Provide a value for radius: 5\n"
          ]
        },
        {
          "output_type": "execute_result",
          "data": {
            "text/plain": [
              "float"
            ]
          },
          "metadata": {},
          "execution_count": 26
        }
      ]
    },
    {
      "cell_type": "code",
      "source": [
        "pi = 3.14\n",
        "r = 5\n",
        "c = 10\n",
        "h = 8\n",
        "shape = \"triangle\"\n",
        "\n",
        "\n",
        "if shape == \"circle\":\n",
        "  Area = pi * (r**2)\n",
        "  print(Area)\n",
        "\n",
        "elif shape == \"sq\":\n",
        "  Area = c ** 2\n",
        "  print(Area)\n",
        "\n",
        "elif shape == \"triangle\":\n",
        "  Area = .5 * c * h\n",
        "  print(Area)\n",
        "\n",
        "else:\n",
        "  Area = 2*pi*r**2 + 2*pi*r*h\n",
        "  print(Area)"
      ],
      "metadata": {
        "colab": {
          "base_uri": "https://localhost:8080/"
        },
        "id": "T9rjVfQH60u1",
        "outputId": "90c31ac0-c86b-4d03-c937-d6a2dc751bec"
      },
      "execution_count": null,
      "outputs": [
        {
          "output_type": "stream",
          "name": "stdout",
          "text": [
            "40.0\n"
          ]
        }
      ]
    },
    {
      "cell_type": "code",
      "source": [
        "gr = 91\n",
        "\n",
        "if gr > 96:\n",
        "  print(\"A+\")\n",
        "elif gr > 93:\n",
        "  print(\"A\")\n",
        "elif gr > 90:\n",
        "  print(\"A-\")\n",
        "elif gr > 88:\n",
        "  print(\"B+\")"
      ],
      "metadata": {
        "colab": {
          "base_uri": "https://localhost:8080/"
        },
        "id": "HjuTwqbGCWqJ",
        "outputId": "a57a5c29-a6b6-48a9-aa41-1eedf3d1331e"
      },
      "execution_count": null,
      "outputs": [
        {
          "output_type": "stream",
          "name": "stdout",
          "text": [
            "A-\n"
          ]
        }
      ]
    },
    {
      "cell_type": "code",
      "source": [
        "amount = float(input(\"Enter investment amount in $:\"))\n",
        "customer_type= input(\"Enter customer type (n is new, e is existing):\")\n",
        "\n",
        "if amount <= 1000 and customer_type == 'e':\n",
        "  ir = 0.03\n",
        "  ret = (1 + ir) * amount\n",
        "\n",
        "elif amount <= 10000 and customer_type == 'e':\n",
        "  ir = 0.0325\n",
        "  ret = (1 + ir) * amount\n",
        "\n",
        "elif amount <= 100000 and customer_type == 'e':\n",
        "  ir = 0.035\n",
        "  ret = (1 + ir) * amount\n",
        "\n",
        "elif amount > 10000 and customer_type == 'e':\n",
        "  ir = 0.035\n",
        "  ret = (1 + ir) * amount\n",
        "\n",
        "else:\n",
        "  ir = 0.04\n",
        "  ret = (1 + ir) * amount\n",
        "\n",
        "print(f'Annual return after 1 year: ${ret}')"
      ],
      "metadata": {
        "id": "BzUeBmO9F1uf",
        "colab": {
          "base_uri": "https://localhost:8080/"
        },
        "outputId": "0457a9f3-39c4-479b-86ae-bada4ae0196f"
      },
      "execution_count": null,
      "outputs": [
        {
          "output_type": "stream",
          "name": "stdout",
          "text": [
            "Enter investment amount in $:100000\n",
            "Enter customer type (n is new, e is existing):n\n",
            "Annual return after 1 year: $103499.99999999999\n"
          ]
        }
      ]
    },
    {
      "cell_type": "code",
      "source": [
        "p1 = input('Enter P1: Rock, Paper, or Scissors:')\n",
        "p2 = input('Enter P2: Rock, Paper, or Scissors')\n",
        "\n",
        "if p1 == p2:\n",
        "  print(\"Draw\")\n",
        "\n",
        "elif (\n",
        "    (p1 == 'Rock' and p2 == 'Scissors') or\n",
        "    (p1 == 'Paper' and p2 == 'Rock') or\n",
        "    (p1 == 'Scissors' and p2 == 'Paper')):\n",
        "    print(\"P1 wins\")\n",
        "\n",
        "else:\n",
        "  print(\"P2 wins\")\n"
      ],
      "metadata": {
        "id": "k9aSX89xmPmR"
      },
      "execution_count": null,
      "outputs": []
    },
    {
      "cell_type": "code",
      "source": [
        "print(\"+ for addition\")\n",
        "print(\"- for subtraction\")\n",
        "print(\"* for multiplication\")\n",
        "print(\"/ for division\")\n",
        "print(\"** for exponents\")\n",
        "operator = (input(\"Enter math operator: \"))\n",
        "num1 = float(input(\"Enter first number: \"))\n",
        "num2 = float(input(\"Enter second number: \"))\n",
        "\n",
        "if operator == '+':\n",
        "  print(num1 + num2)\n",
        "\n",
        "elif operator == '-':\n",
        "  print(num1 - num2)\n",
        "\n",
        "elif operator == '*':\n",
        "  print(num1 * num2)\n",
        "\n",
        "elif operator == '/':\n",
        "  print(num1/num2)\n",
        "\n",
        "elif operator == '**':\n",
        "  print(num1**num2)\n",
        ""
      ],
      "metadata": {
        "colab": {
          "base_uri": "https://localhost:8080/"
        },
        "id": "hIyv_WAa5OO2",
        "outputId": "08363214-d82e-492f-ed92-93d0650c1969"
      },
      "execution_count": null,
      "outputs": [
        {
          "output_type": "stream",
          "name": "stdout",
          "text": [
            "+ for addition\n",
            "- for subtraction\n",
            "* for multiplication\n",
            "/ for division\n",
            "** for exponents\n"
          ]
        }
      ]
    }
  ]
}